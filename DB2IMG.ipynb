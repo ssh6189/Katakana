{
 "cells": [
  {
   "cell_type": "code",
   "execution_count": 1,
   "metadata": {},
   "outputs": [],
   "source": [
    "#ETL 파일 읽어들이기\n",
    "import struct\n",
    "from PIL import Image, ImageEnhance\n",
    "import glob, os"
   ]
  },
  {
   "cell_type": "code",
   "execution_count": 2,
   "metadata": {},
   "outputs": [],
   "source": [
    "#출력 디렉터리\n",
    "outdir = \"png-et1/\"\n",
    "if not os.path.exists(outdir):\n",
    "    os.mkdir(outdir)"
   ]
  },
  {
   "cell_type": "code",
   "execution_count": 3,
   "metadata": {},
   "outputs": [
    {
     "name": "stdout",
     "output_type": "stream",
     "text": [
      "ETL1\\ETL1\n"
     ]
    },
    {
     "ename": "PermissionError",
     "evalue": "[Errno 13] Permission denied: 'ETL1\\\\ETL1'",
     "output_type": "error",
     "traceback": [
      "\u001b[1;31m---------------------------------------------------------------------------\u001b[0m",
      "\u001b[1;31mPermissionError\u001b[0m                           Traceback (most recent call last)",
      "\u001b[1;32m<ipython-input-3-b1001e43fefa>\u001b[0m in \u001b[0;36m<module>\u001b[1;34m\u001b[0m\n\u001b[0;32m      9\u001b[0m \u001b[1;33m\u001b[0m\u001b[0m\n\u001b[0;32m     10\u001b[0m     \u001b[1;31m#ETL1 데이터 파일 열기\u001b[0m\u001b[1;33m\u001b[0m\u001b[1;33m\u001b[0m\u001b[1;33m\u001b[0m\u001b[0m\n\u001b[1;32m---> 11\u001b[1;33m     \u001b[0mf\u001b[0m \u001b[1;33m=\u001b[0m  \u001b[0mopen\u001b[0m\u001b[1;33m(\u001b[0m\u001b[0mfname\u001b[0m\u001b[1;33m,\u001b[0m \u001b[1;34m'rb'\u001b[0m\u001b[1;33m)\u001b[0m\u001b[1;33m\u001b[0m\u001b[1;33m\u001b[0m\u001b[0m\n\u001b[0m\u001b[0;32m     12\u001b[0m     \u001b[0mf\u001b[0m\u001b[1;33m.\u001b[0m\u001b[0mseek\u001b[0m\u001b[1;33m(\u001b[0m\u001b[1;36m0\u001b[0m\u001b[1;33m)\u001b[0m\u001b[1;33m\u001b[0m\u001b[1;33m\u001b[0m\u001b[0m\n\u001b[0;32m     13\u001b[0m \u001b[1;33m\u001b[0m\u001b[0m\n",
      "\u001b[1;31mPermissionError\u001b[0m: [Errno 13] Permission denied: 'ETL1\\\\ETL1'"
     ]
    }
   ],
   "source": [
    "#ETL1 디렉터리 아래의 파일 처리하기---\n",
    "files = glob.glob(\"ETL1/*\")\n",
    "\n",
    "for fname in files:\n",
    "    #정보 파일 무시하기\n",
    "    if fname == \"ETL1/ETL1INFO\":\n",
    "        continue\n",
    "    print(fname)\n",
    "    \n",
    "    #ETL1 데이터 파일 열기\n",
    "    f =  open(fname, 'rb')\n",
    "    f.seek(0)\n",
    "    \n",
    "    while True:\n",
    "        #메타데이터와 이미지 데이터 조합을 하나씩 읽어 들이기\n",
    "        s = f.read(2052)\n",
    "        if not s:\n",
    "            break\n",
    "        #바이너리 데이터이므로 Python에서 사용할 수 있는 형태로 읽어 들이기\n",
    "        r = struct.unpack('>H2sH6BI4H4B4x2016s4x', s)\n",
    "        code_ascii = r[1]\n",
    "        \n",
    "        code_jis = r[3]\n",
    "        \n",
    "        #이미지 데이터로 추출하기\n",
    "        iF = Image.frombyte('F', (64, 63), r[18], 'bit', 4)\n",
    "        iP = iF.convert('L')\n",
    "        \n",
    "        #이미지를 선명하게 해서 저장하기\n",
    "        dir = outdir + \"/\" + str(code_jis)\n",
    "        \n",
    "        if not os.path.exts(dir):\n",
    "            os.mkdir(dir)\n",
    "        fn = \"{0:02x}-{1:02x}{2:04x}.png\".format(code_jis, r[0], r[2])\n",
    "        fullpath = dir + \"/\" + fn\n",
    "        \n",
    "        if os.path.exists(fullpath):\n",
    "            continue\n",
    "        enhancer = ImageEnhance.Brightness(iP)\n",
    "        \n",
    "        iE = enhancer.enhance(16)\n",
    "        iE.save(fullpath, 'PNG')\n",
    "        \n",
    "    print(\"ok\")"
   ]
  }
 ],
 "metadata": {
  "kernelspec": {
   "display_name": "Python 3",
   "language": "python",
   "name": "python3"
  },
  "language_info": {
   "codemirror_mode": {
    "name": "ipython",
    "version": 3
   },
   "file_extension": ".py",
   "mimetype": "text/x-python",
   "name": "python",
   "nbconvert_exporter": "python",
   "pygments_lexer": "ipython3",
   "version": "3.7.7"
  }
 },
 "nbformat": 4,
 "nbformat_minor": 4
}
